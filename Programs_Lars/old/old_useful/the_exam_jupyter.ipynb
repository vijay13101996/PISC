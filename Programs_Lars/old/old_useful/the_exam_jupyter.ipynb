{
 "cells": [
  {
   "cell_type": "code",
   "execution_count": 1,
   "metadata": {},
   "outputs": [],
   "source": [
    "import numpy as np\n",
    "import itertools\n",
    "\n",
    "#Global variables\n",
    "beta=1\n",
    "N=4*beta #number of beads # n=4beta \n",
    "betaN=beta/N\n",
    "hbar=1\n",
    "m=1\n",
    "\n",
    "def force(x,f_type):#f_type more clean, (what to do for exeption but all that later)\n",
    "    f_all =-(m/((betaN**2) * (hbar**2))) * (2*x-np.roll(x,1)-np.roll(x,-1))\n",
    "    if(f_type=='harmonic'):\n",
    "        return -x +f_all\n",
    "    if(f_type=='perturbed_harmonic'):\n",
    "        return -(x +0.3*x**2 +0.04*x**3) +f_all\n",
    "    if(f_type=='quartic'):\n",
    "        return -(x**3)+f_all\n",
    "\n",
    "def generate_p():\n",
    "    return np.random.normal(0,np.sqrt(m/betaN),N)\n",
    "\n",
    "\n",
    "def propagate_x_and_p(numsteps, dt ,x_init, p_init,f_type):\n",
    "    p_tmp=p_init\n",
    "    x_tmp=x_init\n",
    "    for _ in itertools.repeat(None, numsteps):\n",
    "        p_tmp= p_tmp+force(x_tmp,f_type)*dt/2\n",
    "        x_tmp= x_tmp + dt*p_tmp/m\n",
    "        # x_cart = G * X_nm\n",
    "        # f_cart(x_cart)\n",
    "        # F_nm = T * f_cart\n",
    "        p_tmp= p_tmp+ force(x_tmp,f_type)*dt/2\n",
    "    return x_tmp,p_tmp\n",
    "\n",
    "def propagate_x_and_p_nm(numsteps, dt ,x_init, p_init,f_type,G,G_inv):\n",
    "    p_tmp=p_init\n",
    "    x_tmp=x_init\n",
    "    for _ in itertools.repeat(None, numsteps):\n",
    "        x_cart = x_tmp @ G_inv#\n",
    "        F_nm=force(x_cart,f_type)@G#\n",
    "        p_tmp= p_tmp+F_nm*dt/2\n",
    "        x_tmp= x_tmp + dt*p_tmp/m\n",
    "        x_cart = x_tmp @ G_inv#\n",
    "        F_nm=force(x_cart,f_type)@G#\n",
    "        p_tmp= p_tmp+ F_nm*dt/2\n",
    "    return x_tmp,p_tmp\n",
    "\n",
    "#energy conservation check\n",
    "def calculate_energy(x,p,f_type):\n",
    "    E_kin=np.sum(p**2)/(2*m)\n",
    "    V=0\n",
    "    if(f_type=='harmonic'):\n",
    "        V=0.5*np.sum(x**2)\n",
    "    if(f_type=='perturbed_harmonic'):\n",
    "        V=0.5*np.sum(x**2)+0.1*np.sum(x**3)+0.01*np.sum(x**4)\n",
    "    if(f_type=='quartic'):\n",
    "        V=0.25*np.sum(x**4)\n",
    "    V_springs=(m/(2*(betaN**2) * (hbar**2)))*np.sum((x-np.roll(x,1))**2)\n",
    "    E_tot=E_kin+V+V_springs\n",
    "    return E_tot \n",
    "\n",
    "def cart_to_nm_and_inverse(N):\n",
    "    G=np.zeros((N,N))\n",
    "    for j in range(N):\n",
    "        for k in range(N):\n",
    "            if(k==0):\n",
    "                G[j,k]=1\n",
    "                #print('A', j,k)\n",
    "            if(1<=k<=(N/2-1)):\n",
    "                G[j,k]=np.sqrt(2)*np.cos((2*np.pi*j*k)/N)\n",
    "                #print('B', j,k)\n",
    "            if(k==N/2):\n",
    "                G[j,k]=(-1)**j\n",
    "                #print('C', j,k)\n",
    "            if((N/2+1)<=k<=(N-1)):\n",
    "                #print('D', j,k)\n",
    "                G[j,k]=np.sqrt(2)*np.sin((2*np.pi*j*k)/N)\n",
    "    G_cart_to_nm= (1/np.sqrt(N))*G\n",
    "    return G_cart_to_nm, G_cart_to_nm.transpose()"
   ]
  },
  {
   "cell_type": "code",
   "execution_count": 96,
   "metadata": {},
   "outputs": [
    {
     "name": "stdout",
     "output_type": "stream",
     "text": [
      "1 / 3\n",
      "2 / 3\n",
      "3 / 3\n"
     ]
    }
   ],
   "source": [
    "num_steps=100\n",
    "dt=0.05 #difference between normal modes if factor of 4 included\n",
    "#f_type='harmonic'\n",
    "f_type='perturbed_harmonic'\n",
    "#f_type='quartic'\n",
    "\n",
    "seeds=3\n",
    "full_tcf=np.zeros((seeds,num_steps))\n",
    "sampling_rate=5\n",
    "num_traj=500\n",
    "#loop over random seeds\n",
    "for k in range(seeds):\n",
    "    print(k+1,'/',seeds)\n",
    "    np.random.seed(k)\n",
    "    tcf = np.zeros(num_steps)\n",
    "    G, G_inv= cart_to_nm_and_inverse(N)\n",
    "    for _ in itertools.repeat(None, num_traj):\n",
    "        p0=generate_p()\n",
    "        x_initial=np.zeros(N)\n",
    "        x0,p0 = propagate_x_and_p(numsteps=100, dt=dt,x_init=x_initial,p_init=p0,f_type=f_type) #first run s.t. x0 is also unbiased\n",
    "        #initialized all values above\n",
    "        x0_cen=np.sum(x0)/N #for cartesian\n",
    "        x0_nm=x0[0]#for nm\n",
    "        pt=p0\n",
    "        xt=x0\n",
    "        for j in range(num_steps):\n",
    "                ### cartesian\n",
    "                xt_cen=np.sum(xt)/N\n",
    "                tcf[j]+=x0_cen * xt_cen #cartesian\n",
    "                xt,pt = propagate_x_and_p(numsteps=sampling_rate,dt=dt,x_init=xt,p_init=pt,f_type=f_type)\n",
    "                ### normal mode\n",
    "                #tcf[j]+= x0_nm*xt[0]\n",
    "                #xt,pt = propagate_x_and_p_nm(numsteps=sampling_rate,dt=dt,x_init=xt,p_init=pt,f_type=f_type,G=G,G_inv=G_inv)\n",
    "                \n",
    "\n",
    "    tcf /= num_traj\n",
    "    full_tcf[k]=tcf\n",
    " "
   ]
  },
  {
   "cell_type": "code",
   "execution_count": 11,
   "metadata": {},
   "outputs": [
    {
     "name": "stdout",
     "output_type": "stream",
     "text": [
      "1 / 3\n",
      "2 / 3\n",
      "3 / 3\n"
     ]
    }
   ],
   "source": [
    "num_steps=100\n",
    "dt=0.05 #difference between normal modes if factor of 4 included\n",
    "#f_type='harmonic'\n",
    "f_type='perturbed_harmonic'\n",
    "#f_type='quartic'\n",
    "\n",
    "seeds=3\n",
    "full_tcf=np.zeros((seeds,num_steps))\n",
    "sampling_rate=5\n",
    "num_traj=400\n",
    "\n",
    "#loop over random seeds\n",
    "for k in range(seeds):\n",
    "    print(k+1,'/',seeds)\n",
    "    np.random.seed(k)\n",
    "    tcf = np.zeros(num_steps)\n",
    "    G, G_inv= cart_to_nm_and_inverse(N)\n",
    "\n",
    "    for _ in itertools.repeat(None, num_traj):\n",
    "        p0=generate_p()\n",
    "        x0=np.zeros(N)\n",
    "        x0,p0 = propagate_x_and_p(numsteps=100, dt=dt,x_init=x0,p_init=p0,f_type=f_type) #first run s.t. x0 is also unbiased\n",
    "        #initialized all values above\n",
    "        x0_cen=np.sum(x0)/N #for cartesian\n",
    "        x0_nm=x0[0]#for nm\n",
    "        pt=p0\n",
    "        xt=x0\n",
    "        xt_cent_vec=np.zeros(2*num_steps)\n",
    "\n",
    "        for j in range(2*num_steps):\n",
    "                ### cartesian\n",
    "                xt_cen=np.sum(xt)/N\n",
    "                xt_cent_vec[j]=xt_cen\n",
    "                #tcf[j]+=x0_cen * xt_cen #cartesian\n",
    "                xt,pt = propagate_x_and_p(numsteps=sampling_rate,dt=dt,x_init=xt,p_init=pt,f_type=f_type)\n",
    "        \n",
    "        for j in range(num_steps):\n",
    "            tcf[j] += np.dot(xt_cent_vec[0:num_steps],xt_cent_vec[j:num_steps + j])\n",
    "    tcf /= (num_traj*num_steps)\n",
    "    full_tcf[k]=tcf\n",
    " "
   ]
  },
  {
   "cell_type": "code",
   "execution_count": 12,
   "metadata": {},
   "outputs": [
    {
     "data": {
      "image/png": "[encoded data removed]",
      "text/plain": [
       "<Figure size 432x288 with 1 Axes>"
      ]
     },
     "metadata": {
      "needs_background": "light"
     },
     "output_type": "display_data"
    }
   ],
   "source": [
    "import matplotlib.pyplot as plt\n",
    "mean_tcf = np.mean(full_tcf,axis=0)\n",
    "std_tcf = np.std(full_tcf,axis=0)  \n",
    "t=np.linspace(start=0,stop=num_steps*dt*sampling_rate,num=num_steps)\n",
    "#plt.plot(t,mean_tcf)\n",
    "plt.errorbar(t,mean_tcf, yerr=std_tcf )\n",
    "plt.ylabel('TCF')\n",
    "plt.xlabel('t')\n",
    "#plt.text( x= 5,y=0.08, s=r'$\\beta$')\n",
    "plt.show()\n"
   ]
  },
  {
   "cell_type": "code",
   "execution_count": 98,
   "metadata": {},
   "outputs": [
    {
     "data": {
      "image/png": "[encoded data removed]",
      "text/plain": [
       "<Figure size 432x288 with 1 Axes>"
      ]
     },
     "metadata": {
      "needs_background": "light"
     },
     "output_type": "display_data"
    }
   ],
   "source": [
    "#second one in order to compare\n",
    "import matplotlib.pyplot as plt\n",
    "mean_tcf = np.mean(full_tcf,axis=0)\n",
    "std_tcf = np.std(full_tcf,axis=0)  \n",
    "t=np.linspace(start=0,stop=num_steps*dt*sampling_rate,num=num_steps)\n",
    "#plt.plot(t,mean_tcf)\n",
    "plt.errorbar(t,mean_tcf, yerr=std_tcf )\n",
    "plt.ylabel('TCF')\n",
    "plt.xlabel('t')\n",
    "#plt.text( x= 5,y=0.08, s=r'$\\beta$')\n",
    "plt.show()"
   ]
  },
  {
   "cell_type": "code",
   "execution_count": 10,
   "metadata": {},
   "outputs": [
    {
     "ename": "SyntaxError",
     "evalue": "invalid syntax (4290328515.py, line 4)",
     "output_type": "error",
     "traceback": [
      "\u001b[0;36m  File \u001b[0;32m\"/tmp/ipykernel_12217/4290328515.py\"\u001b[0;36m, line \u001b[0;32m4\u001b[0m\n\u001b[0;31m    for s in range(seeds)\u001b[0m\n\u001b[0m                         ^\u001b[0m\n\u001b[0;31mSyntaxError\u001b[0m\u001b[0;31m:\u001b[0m invalid syntax\n"
     ]
    }
   ],
   "source": [
    "if(False): #pseudocode\n",
    "    seeds=10\n",
    "    full_tcf = np.zeros((N, seeds))\n",
    "    for s in range(seeds)\n",
    "        rand.seed(seed)\n",
    "        tcf = np.zeros(N)\n",
    "        for i in ntraj:\n",
    "            for k in times_sample\n",
    "                sample_p()\n",
    "                for j in nsteps_thermalize:\n",
    "                    propagate_1_step()\n",
    "            x0 = centroid()\n",
    "            for j in run_steps:\n",
    "                tcf[j] += x0 * centroid()\n",
    "                propgate_1_step()\n",
    "                \n",
    "\n",
    "        tcf /= ntraj\n",
    "        full_tcf[s] = tcf\n",
    "    np.mean(full_tcf)\n",
    "    np.stddev(full_tcf)    "
   ]
  }
 ],
 "metadata": {
  "interpreter": {
   "hash": "31f2aee4e71d21fbe5cf8b01ff0e069b9275f58929596ceb00d14d90e3e16cd6"
  },
  "kernelspec": {
   "display_name": "Python 3.6.9 64-bit",
   "language": "python",
   "name": "python3"
  },
  "language_info": {
   "codemirror_mode": {
    "name": "ipython",
    "version": 3
   },
   "file_extension": ".py",
   "mimetype": "text/x-python",
   "name": "python",
   "nbconvert_exporter": "python",
   "pygments_lexer": "ipython3",
   "version": "3.9.7"
  },
  "orig_nbformat": 4
 },
 "nbformat": 4,
 "nbformat_minor": 2
}
