{
 "cells": [
  {
   "cell_type": "code",
   "execution_count": 1,
   "metadata": {},
   "outputs": [],
   "source": [
    "###DVR functions\n",
    "import sys\n",
    "#print(sys.path)\n",
    "import numpy as np\n",
    "from numpy import linalg as LA\n",
    "import matplotlib.pyplot as plt\n",
    "\n",
    "\n",
    "def pot_1d_well(x):\n",
    "    V=0\n",
    "    if(x>1):\n",
    "        V+=100000   \n",
    "    if(x<0):\n",
    "        V+=100000\n",
    "    return V\n",
    "\n",
    "def pot_harm_osz(x,k,x0):\n",
    "    return 0.5*k* (x-x0)**2\n",
    "\n",
    "def pot_double_well(x, labda=2,g=1/50):\n",
    "    return -(1/4) * labda**2 * x**2 +g*x**4 + labda**4 / (64 *g)\n",
    "\n",
    "def kin_inf(grid,hbar=1,m=1):#(-inf,inf) intervall\n",
    "    N_grid=len(grid)\n",
    "    T = np.zeros((N_grid,N_grid)) \n",
    "    for k in range(N_grid):\n",
    "        for l in range(N_grid):\n",
    "            if(k==l):\n",
    "                T[k,k]= np.pi**2 /3\n",
    "            if(k!=l):\n",
    "                T[k,l]= (-1)**(k-l) *2/((k-l)**2)\n",
    "    T *= hbar**2 / (2*m* (grid[2]-grid[1])**2 )\n",
    "    return T\n",
    "\n",
    "def pot(grid, potential):#input: grid and generic potential\n",
    "    N_grid=len(grid)\n",
    "    V = np.zeros((N_grid,N_grid)) \n",
    "    for k in range(N_grid):\n",
    "        V[k,k]= potential(grid[k])\n",
    "    return V\n"
   ]
  },
  {
   "cell_type": "code",
   "execution_count": 2,
   "metadata": {},
   "outputs": [],
   "source": [
    "###Checked: Harmonic Oscillator\n",
    "if(False):\n",
    "    for k in range(20):\n",
    "        E=hbar *np.sqrt(spring/m)*(k+0.5)\n",
    "        print(E,w[k],k, E-w[k])\n",
    "###plot wavefkt\n",
    "if(False):\n",
    "    N=len(grid)\n",
    "    HO_pot = np.zeros(N)\n",
    "    for k in range(N):\n",
    "        HO_pot[k]= pot_harm_osz(grid[k],k=spring,x0=0)\n",
    "    for n in range(4):\n",
    "        #plt.plot(grid,v[:,n]*10+w[n], label = \"psi %i\" % n)#*10 s.t visible (b.c. it is normalized anyways)\n",
    "        plt.plot(grid,v[:,n]**2 *200+w[n], label = \"psi_sq %i\" % n)#*10 s.t visible (b.c. it is normalized anyways)\n",
    "        plt.plot(grid,np.zeros_like(v[:,n])*10+w[n],'--')#*10 s.t visible (b.c. it is normalized anyways)\n",
    "    plt.plot(grid,HO_pot,label= \"V\",linewidth=3 )\n",
    "    plt.ylabel('E and Psi')\n",
    "    plt.xlabel('x')\n",
    "    #plt.ylim([0,w[9]])\n",
    "    plt.xlim([-7,7])\n",
    "    plt.legend()\n",
    "    plt.show()\n"
   ]
  },
  {
   "cell_type": "code",
   "execution_count": 3,
   "metadata": {},
   "outputs": [],
   "source": [
    "###Checking: Double Well....#strongly dependent on given conditions, plotting is adviced\n",
    "if(False):\n",
    "    hbar=1 #like in OTOC paper\n",
    "    m=1/2 #like in OTOC paper\n",
    "    grid = np.linspace(-7,7,2000,endpoint=False)[1:] #in principle: gridspacing one to 5 grid points per de broglie wavelength and where one expects wavefkt to still be\n",
    "    H=pot(grid=grid, potential=lambda x : pot_double_well(x=x,labda= 2, g=1/50))+kin_inf(grid=grid,hbar=hbar,m=m)\n",
    "    w,v = LA.eigh(H)\n",
    "\n",
    "    for k in range(10):\n",
    "        print(w[k],k)\n",
    "    for k in range(10):\n",
    "        print(w[k+1]-w[k],k+1,'->',k)\n",
    "###plot wavefkt\n",
    "if(False):\n",
    "    N=len(grid)\n",
    "    DW_pot = np.zeros(N)\n",
    "    for k in range(N):\n",
    "        DW_pot[k]= pot_double_well(grid[k],labda=2, g=1/50)\n",
    "    for n in range(13):\n",
    "        plt.plot(grid,v[:,n]*20+w[n], label = \"psi %i\" % n)#*10 s.t visible (b.c. it is normalized anyways)\n",
    "        #plt.plot(grid,v[:,n]**2 *1600+w[n], label = \"psi_sq %i\" % n)#*10 s.t visible (b.c. it is normalized anyways)\n",
    "        plt.plot(grid,np.zeros_like(v[:,n])+w[n],'--')#*10 s.t visible (b.c. it is normalized anyways)\n",
    "    plt.plot(grid,DW_pot,label= \"V\",linewidth=3 )\n",
    "    plt.ylabel('E and Psi')\n",
    "    plt.xlabel('x')\n",
    "    #plt.ylim([0,w[20]])\n",
    "    plt.xlim([-8,8])\n",
    "    #plt.legend()\n",
    "    plt.show()\n"
   ]
  },
  {
   "cell_type": "code",
   "execution_count": 4,
   "metadata": {},
   "outputs": [],
   "source": [
    "###checked for Particle in a box\n",
    "if(False):\n",
    "    for k in range(5):\n",
    "        print(E_n(k+1),w[k],k)#paricle in a box\n",
    "###plot wavefkt\n",
    "if(False):\n",
    "    n=4\n",
    "    plt.plot(grid,v[:,n], label = \"psi\")\n",
    "    psi = np.zeros(len(grid))\n",
    "    psi_sq = np.zeros_like(psi)\n",
    "    for k in range(len(grid)):\n",
    "        psi[k]=psi_n_bound(grid[k],n)\n",
    "        psi_sq[k]=psi[k]**2\n",
    "    #plt.plot(grid,psi, label = \"psi\")\n",
    "    #plt.plot(grid,psi_sq, label = \"psi **2\")\n",
    "    plt.ylabel('psi')\n",
    "    plt.xlabel('x')\n",
    "    #plt.legend()\n",
    "    plt.show()\n"
   ]
  },
  {
   "cell_type": "code",
   "execution_count": 5,
   "metadata": {},
   "outputs": [],
   "source": [
    "###DVR \n",
    "#parameters\n",
    "hbar=1 #like in OTOC paper\n",
    "m=1/2 #like in OTOC paper\n",
    "L=1\n",
    "spring=1\n",
    "\n",
    "\n",
    "#H=pot(grid=grid, potential=pot_1d_well)+kin_inf(grid=grid,hbar=hbar,m=m)\n",
    "#H=pot(grid=grid, potential=lambda x : pot_harm_osz(x=x,k=spring,x0=0))+kin_inf(grid=grid,hbar=hbar,m=m)\n",
    "###Double Well\n",
    "grid = np.float32(np.linspace(-7,7,2000,endpoint=False)[1:]) #in principle: gridspacing one to 5 grid points per de broglie wavelength and where one expects wavefkt to still be\n",
    "H=pot(grid=grid, potential=lambda x : pot_double_well(x=x,labda= 2, g=1/50))+kin_inf(grid=grid,hbar=hbar,m=m)\n",
    "\n",
    "w,v = LA.eigh(H) #again look at scipy.space.linalg.eigsh at some point "
   ]
  },
  {
   "cell_type": "code",
   "execution_count": 6,
   "metadata": {},
   "outputs": [],
   "source": [
    "def E_n_DVR(n,w=w):\n",
    "    return w[n]\n",
    "\n",
    "def E_nm_DVR(n,m, w=w):\n",
    "    return E_n_DVR(n,w=w)-E_n_DVR(m,w=w)\n",
    "\n",
    "def x_nm_from_DVR(v,n,m):\n",
    "    return np.sum(v[:,n]*v[:,m]*grid)\n",
    "\n",
    "def b_nm(t,n,m,X,E_nm_fk=E_nm_DVR): \n",
    "    I=0\n",
    "    for k in range(len(X[:,1])):\n",
    "        I+=X[n,k]*X[k,m]*(E_nm_fk(k,m)*np.exp(E_nm_fk(n,k)*1j*t)-E_nm_fk(n,k)*np.exp(E_nm_fk(k,m)*1j*t))\n",
    "    return 0.5*I\n",
    "\n",
    "def c_n(t,n,X,E_nm_fk=E_nm_DVR): #microcanonical OTOC\n",
    "    I=0\n",
    "    for m in range(len(X[:,1])):\n",
    "        I += np.abs(b_nm(t,n,m,X,E_nm_fk))**2\n",
    "        #if(n==13 or n==14):\n",
    "        #    print(np.abs(b_nm(t,n,m,X,E_nm_fk))**2,n)\n",
    "    return I\n",
    "\n",
    "\n",
    "def C_T(C,beta=1,E_n_fk=E_n_DVR): #C is microcanonical OTOC\n",
    "    Z=0 \n",
    "    sum=np.zeros_like(C[:,1])#get Thermal OTOC for each time t\n",
    "    for n in range(len(C[1,:])):\n",
    "        Z+=np.exp(-beta *E_n_fk(n)) #partition sum\n",
    "    for n in range(len(C[1,:])):\n",
    "        for time in range(len(C[:,1])):\n",
    "            sum[time] += np.exp(-beta *E_n_fk(n))*C[time,n] #wights of all microcanonical OTOCS\n",
    "    return sum/Z"
   ]
  },
  {
   "cell_type": "code",
   "execution_count": 7,
   "metadata": {},
   "outputs": [],
   "source": [
    "x_range=150\n",
    "X=np.zeros((x_range,x_range))\n",
    "for n in range(x_range):\n",
    "    for m in range(x_range):\n",
    "        ###DVR\n",
    "        X[n,m]=x_nm_from_DVR(v=v,n=n,m=m)"
   ]
  },
  {
   "cell_type": "code",
   "execution_count": 8,
   "metadata": {},
   "outputs": [
    {
     "name": "stdout",
     "output_type": "stream",
     "text": [
      " Version:1\n"
     ]
    }
   ],
   "source": [
    "from mylib import OTOC1D\n",
    "\n",
    "X_Fortran= np.zeros((x_range,x_range), np.float64)\n",
    "N_trunc=150\n",
    "EV=np.float64(v[:,0:N_trunc])\n",
    "N_grdpts=len(grid)\n",
    "OTOC1D.otoc_1d.which_version()\n",
    "\n"
   ]
  },
  {
   "cell_type": "code",
   "execution_count": 9,
   "metadata": {},
   "outputs": [
    {
     "name": "stdout",
     "output_type": "stream",
     "text": [
      "(150, 150)\n",
      "(1999, 150)\n"
     ]
    }
   ],
   "source": [
    "#Y=OTOC1D.otoc_1d.fill_x_nm(X_Fortran,EV, grid, N_grdpts,N_trunc)\n",
    "print(np.shape(X_Fortran))#f32\n",
    "print(np.shape(EV))#f32\n",
    "#print(np.finfo(grid[1]))#f32\n",
    "#print(np.iinfo(N_trunc))#i64\n",
    "#print(np.iinfo(N_grdpts))#i64\n"
   ]
  },
  {
   "cell_type": "code",
   "execution_count": 1,
   "metadata": {},
   "outputs": [],
   "source": [
    "import sys\n",
    "import numpy as np\n",
    "#print(sys.path)\n",
    "from mylib import OTOC1D\n",
    "N_trunc2 = 50#6,150, didn't work starting 62\n",
    "N_grdpts2 = 1999#10,1999\n",
    "grid2 = np.linspace(1,N_grdpts2,N_grdpts2)\n",
    "EV2 = np.ones((N_grdpts2,N_trunc2))\n",
    "X2=np.zeros((N_trunc2,N_trunc2))"
   ]
  },
  {
   "cell_type": "code",
   "execution_count": 2,
   "metadata": {},
   "outputs": [],
   "source": [
    "#np.jadn\n",
    "y=OTOC1D.otoc_1d.fill_x_nm(X2,EV2,grid2, N_grdpts2,N_trunc2)\n",
    "\n",
    "#print(np.finfo(X2[1,1]))#float64\n",
    "#print(np.finfo(EV2[1,1]))#f64\n",
    "#print(np.finfo(grid2[1]))#f64\n",
    "#print(np.iinfo(N_trunc2))#i64\n",
    "#print(np.iinfo(N_grdpts2))#i64\n"
   ]
  },
  {
   "cell_type": "code",
   "execution_count": null,
   "metadata": {},
   "outputs": [],
   "source": [
    "np.srfge"
   ]
  },
  {
   "cell_type": "code",
   "execution_count": null,
   "metadata": {},
   "outputs": [
    {
     "name": "stdout",
     "output_type": "stream",
     "text": [
      "    1999000.00       1999000.00       1999000.00       1999000.00       1999000.00       1999000.00       1999000.00       1999000.00       1999000.00       1999000.00       1999000.00       1999000.00       1999000.00       1999000.00       1999000.00       1999000.00       1999000.00       1999000.00       1999000.00       1999000.00       1999000.00       1999000.00       1999000.00       1999000.00       1999000.00       1999000.00       1999000.00       1999000.00       1999000.00       1999000.00       1999000.00       1999000.00       1999000.00       1999000.00       1999000.00       1999000.00       1999000.00       1999000.00       1999000.00       1999000.00       1999000.00       1999000.00       1999000.00       1999000.00       1999000.00       1999000.00       1999000.00       1999000.00       1999000.00       1999000.00       1999000.00       1999000.00       1999000.00       1999000.00       1999000.00       1999000.00       1999000.00       1999000.00       1999000.00       1999000.00       1999000.00       1999000.00       1999000.00       1999000.00       1999000.00       1999000.00       1999000.00       1999000.00       1999000.00       1999000.00       1999000.00       1999000.00       1999000.00       1999000.00       1999000.00       1999000.00       1999000.00       1999000.00       1999000.00       1999000.00       1999000.00       1999000.00       1999000.00       1999000.00       1999000.00       1999000.00       1999000.00       1999000.00       1999000.00       1999000.00       1999000.00       1999000.00       1999000.00       1999000.00       1999000.00       1999000.00       1999000.00       1999000.00       1999000.00       1999000.00       1999000.00       1999000.00       1999000.00       1999000.00       1999000.00       1999000.00       1999000.00       1999000.00       1999000.00       1999000.00       1999000.00       1999000.00       1999000.00       1999000.00       1999000.00       1999000.00       1999000.00       1999000.00       1999000.00       1999000.00       1999000.00       1999000.00       1999000.00       1999000.00       1999000.00       1999000.00       1999000.00       1999000.00       1999000.00       1999000.00       1999000.00       1999000.00       1999000.00       1999000.00       1999000.00       1999000.00       1999000.00       1999000.00       1999000.00       1999000.00       1999000.00       1999000.00       1999000.00       1999000.00       1999000.00       1999000.00       1999000.00       1999000.00       1999000.00       1999000.00       1999000.00       1999000.00       1999000.00       1999000.00       1999000.00       1999000.00       1999000.00       1999000.00       1999000.00       1999000.00       1999000.00       1999000.00       1999000.00       1999000.00       1999000.00       1999000.00       1999000.00       1999000.00       1999000.00       1999000.00       1999000.00       1999000.00       1999000.00       1999000.00       1999000.00       1999000.00       1999000.00       1999000.00       1999000.00       1999000.00       1999000.00       1999000.00       1999000.00       1999000.00       1999000.00       1999000.00       1999000.00       1999000.00       1999000.00       1999000.00       1999000.00       1999000.00       1999000.00       1999000.00       1999000.00       1999000.00       1999000.00       1999000.00       1999000.00       1999000.00       1999000.00       1999000.00       1999000.00       1999000.00       1999000.00       1999000.00       1999000.00       1999000.00       1999000.00       1999000.00       1999000.00       1999000.00       1999000.00       1999000.00       1999000.00       1999000.00       1999000.00       1999000.00       1999000.00       1999000.00       1999000.00       1999000.00       1999000.00       1999000.00       1999000.00       1999000.00       1999000.00       1999000.00       1999000.00       1999000.00       1999000.00       1999000.00       1999000.00       1999000.00       1999000.00       1999000.00       1999000.00       1999000.00       1999000.00       1999000.00       1999000.00       1999000.00       1999000.00       1999000.00       1999000.00       1999000.00       1999000.00       1999000.00       1999000.00       1999000.00       1999000.00       1999000.00       1999000.00       1999000.00       1999000.00       1999000.00       1999000.00       1999000.00       1999000.00       1999000.00       1999000.00       1999000.00       1999000.00       1999000.00       1999000.00       1999000.00       1999000.00       1999000.00       1999000.00       1999000.00       1999000.00       1999000.00       1999000.00       1999000.00       1999000.00       1999000.00       1999000.00       1999000.00       1999000.00       1999000.00       1999000.00       1999000.00       1999000.00       1999000.00       1999000.00       1999000.00       1999000.00       1999000.00       1999000.00       1999000.00       1999000.00       1999000.00       1999000.00       1999000.00       1999000.00       1999000.00       1999000.00       1999000.00       1999000.00       1999000.00       1999000.00       1999000.00       1999000.00       1999000.00       1999000.00       1999000.00       1999000.00       1999000.00       1999000.00       1999000.00       1999000.00       1999000.00       1999000.00       1999000.00       1999000.00       1999000.00       1999000.00       1999000.00       1999000.00       1999000.00       1999000.00       1999000.00       1999000.00       1999000.00       1999000.00       1999000.00       1999000.00       1999000.00       1999000.00       1999000.00       1999000.00       1999000.00       1999000.00       1999000.00       1999000.00       1999000.00       1999000.00       1999000.00       1999000.00       1999000.00       1999000.00       1999000.00       1999000.00       1999000.00       1999000.00       1999000.00       1999000.00       1999000.00       1999000.00       1999000.00       1999000.00       1999000.00       1999000.00       1999000.00       1999000.00       1999000.00       1999000.00       1999000.00       1999000.00       1999000.00       1999000.00       1999000.00       1999000.00       1999000.00       1999000.00       1999000.00       1999000.00       1999000.00       1999000.00       1999000.00       1999000.00       1999000.00       1999000.00       1999000.00       1999000.00       1999000.00       1999000.00       1999000.00       1999000.00       1999000.00       1999000.00       1999000.00       1999000.00       1999000.00       1999000.00       1999000.00       1999000.00       1999000.00       1999000.00       1999000.00       1999000.00       1999000.00       1999000.00       1999000.00       1999000.00       1999000.00       1999000.00       1999000.00       1999000.00       1999000.00       1999000.00       1999000.00       1999000.00       1999000.00       1999000.00       1999000.00       1999000.00       1999000.00       1999000.00       1999000.00       1999000.00       1999000.00       1999000.00       1999000.00       1999000.00       1999000.00       1999000.00       1999000.00       1999000.00       1999000.00       1999000.00       1999000.00       1999000.00       1999000.00       1999000.00       1999000.00       1999000.00       1999000.00       1999000.00       1999000.00       1999000.00       1999000.00       1999000.00       1999000.00       1999000.00       1999000.00       1999000.00       1999000.00       1999000.00       1999000.00       1999000.00       1999000.00       1999000.00    \n"
     ]
    },
    {
     "ename": "KeyboardInterrupt",
     "evalue": "",
     "output_type": "error",
     "traceback": [
      "\u001b[0;31m---------------------------------------------------------------------------\u001b[0m",
      "\u001b[0;31mKeyboardInterrupt\u001b[0m                         Traceback (most recent call last)",
      "\u001b[0;32m/tmp/ipykernel_14645/1175614886.py\u001b[0m in \u001b[0;36m<module>\u001b[0;34m\u001b[0m\n\u001b[1;32m      5\u001b[0m \u001b[0;32mfor\u001b[0m \u001b[0mk\u001b[0m \u001b[0;32min\u001b[0m \u001b[0mrange\u001b[0m\u001b[0;34m(\u001b[0m\u001b[0mlen\u001b[0m\u001b[0;34m(\u001b[0m\u001b[0mt\u001b[0m\u001b[0;34m)\u001b[0m\u001b[0;34m)\u001b[0m\u001b[0;34m:\u001b[0m\u001b[0;34m\u001b[0m\u001b[0;34m\u001b[0m\u001b[0m\n\u001b[1;32m      6\u001b[0m     \u001b[0;32mfor\u001b[0m \u001b[0mn\u001b[0m \u001b[0;32min\u001b[0m \u001b[0mrange\u001b[0m\u001b[0;34m(\u001b[0m\u001b[0mx_range\u001b[0m\u001b[0;34m)\u001b[0m\u001b[0;34m:\u001b[0m\u001b[0;34m\u001b[0m\u001b[0;34m\u001b[0m\u001b[0m\n\u001b[0;32m----> 7\u001b[0;31m         \u001b[0mC\u001b[0m\u001b[0;34m[\u001b[0m\u001b[0mk\u001b[0m\u001b[0;34m,\u001b[0m\u001b[0mn\u001b[0m\u001b[0;34m]\u001b[0m \u001b[0;34m=\u001b[0m \u001b[0mc_n\u001b[0m\u001b[0;34m(\u001b[0m\u001b[0mt\u001b[0m\u001b[0;34m[\u001b[0m\u001b[0mk\u001b[0m\u001b[0;34m]\u001b[0m\u001b[0;34m,\u001b[0m\u001b[0mn\u001b[0m\u001b[0;34m,\u001b[0m \u001b[0mX\u001b[0m\u001b[0;34m,\u001b[0m\u001b[0mE_nm_fk\u001b[0m\u001b[0;34m=\u001b[0m\u001b[0mE_nm_DVR\u001b[0m\u001b[0;34m)\u001b[0m\u001b[0;34m\u001b[0m\u001b[0;34m\u001b[0m\u001b[0m\n\u001b[0m\u001b[1;32m      8\u001b[0m         \u001b[0;31m#if(k==1):\u001b[0m\u001b[0;34m\u001b[0m\u001b[0;34m\u001b[0m\u001b[0m\n\u001b[1;32m      9\u001b[0m         \u001b[0;31m#  print(c_n(t[k],n, X,E_nm_fk=E_nm_DVR),n)\u001b[0m\u001b[0;34m\u001b[0m\u001b[0;34m\u001b[0m\u001b[0m\n",
      "\u001b[0;32m/tmp/ipykernel_14645/873000382.py\u001b[0m in \u001b[0;36mc_n\u001b[0;34m(t, n, X, E_nm_fk)\u001b[0m\n\u001b[1;32m     17\u001b[0m     \u001b[0mI\u001b[0m\u001b[0;34m=\u001b[0m\u001b[0;36m0\u001b[0m\u001b[0;34m\u001b[0m\u001b[0;34m\u001b[0m\u001b[0m\n\u001b[1;32m     18\u001b[0m     \u001b[0;32mfor\u001b[0m \u001b[0mm\u001b[0m \u001b[0;32min\u001b[0m \u001b[0mrange\u001b[0m\u001b[0;34m(\u001b[0m\u001b[0mlen\u001b[0m\u001b[0;34m(\u001b[0m\u001b[0mX\u001b[0m\u001b[0;34m[\u001b[0m\u001b[0;34m:\u001b[0m\u001b[0;34m,\u001b[0m\u001b[0;36m1\u001b[0m\u001b[0;34m]\u001b[0m\u001b[0;34m)\u001b[0m\u001b[0;34m)\u001b[0m\u001b[0;34m:\u001b[0m\u001b[0;34m\u001b[0m\u001b[0;34m\u001b[0m\u001b[0m\n\u001b[0;32m---> 19\u001b[0;31m         \u001b[0mI\u001b[0m \u001b[0;34m+=\u001b[0m \u001b[0mnp\u001b[0m\u001b[0;34m.\u001b[0m\u001b[0mabs\u001b[0m\u001b[0;34m(\u001b[0m\u001b[0mb_nm\u001b[0m\u001b[0;34m(\u001b[0m\u001b[0mt\u001b[0m\u001b[0;34m,\u001b[0m\u001b[0mn\u001b[0m\u001b[0;34m,\u001b[0m\u001b[0mm\u001b[0m\u001b[0;34m,\u001b[0m\u001b[0mX\u001b[0m\u001b[0;34m,\u001b[0m\u001b[0mE_nm_fk\u001b[0m\u001b[0;34m)\u001b[0m\u001b[0;34m)\u001b[0m\u001b[0;34m**\u001b[0m\u001b[0;36m2\u001b[0m\u001b[0;34m\u001b[0m\u001b[0;34m\u001b[0m\u001b[0m\n\u001b[0m\u001b[1;32m     20\u001b[0m         \u001b[0;31m#if(n==13 or n==14):\u001b[0m\u001b[0;34m\u001b[0m\u001b[0;34m\u001b[0m\u001b[0m\n\u001b[1;32m     21\u001b[0m         \u001b[0;31m#    print(np.abs(b_nm(t,n,m,X,E_nm_fk))**2,n)\u001b[0m\u001b[0;34m\u001b[0m\u001b[0;34m\u001b[0m\u001b[0m\n",
      "\u001b[0;32m/tmp/ipykernel_14645/873000382.py\u001b[0m in \u001b[0;36mb_nm\u001b[0;34m(t, n, m, X, E_nm_fk)\u001b[0m\n\u001b[1;32m     11\u001b[0m     \u001b[0mI\u001b[0m\u001b[0;34m=\u001b[0m\u001b[0;36m0\u001b[0m\u001b[0;34m\u001b[0m\u001b[0;34m\u001b[0m\u001b[0m\n\u001b[1;32m     12\u001b[0m     \u001b[0;32mfor\u001b[0m \u001b[0mk\u001b[0m \u001b[0;32min\u001b[0m \u001b[0mrange\u001b[0m\u001b[0;34m(\u001b[0m\u001b[0mlen\u001b[0m\u001b[0;34m(\u001b[0m\u001b[0mX\u001b[0m\u001b[0;34m[\u001b[0m\u001b[0;34m:\u001b[0m\u001b[0;34m,\u001b[0m\u001b[0;36m1\u001b[0m\u001b[0;34m]\u001b[0m\u001b[0;34m)\u001b[0m\u001b[0;34m)\u001b[0m\u001b[0;34m:\u001b[0m\u001b[0;34m\u001b[0m\u001b[0;34m\u001b[0m\u001b[0m\n\u001b[0;32m---> 13\u001b[0;31m         \u001b[0mI\u001b[0m\u001b[0;34m+=\u001b[0m\u001b[0mX\u001b[0m\u001b[0;34m[\u001b[0m\u001b[0mn\u001b[0m\u001b[0;34m,\u001b[0m\u001b[0mk\u001b[0m\u001b[0;34m]\u001b[0m\u001b[0;34m*\u001b[0m\u001b[0mX\u001b[0m\u001b[0;34m[\u001b[0m\u001b[0mk\u001b[0m\u001b[0;34m,\u001b[0m\u001b[0mm\u001b[0m\u001b[0;34m]\u001b[0m\u001b[0;34m*\u001b[0m\u001b[0;34m(\u001b[0m\u001b[0mE_nm_fk\u001b[0m\u001b[0;34m(\u001b[0m\u001b[0mk\u001b[0m\u001b[0;34m,\u001b[0m\u001b[0mm\u001b[0m\u001b[0;34m)\u001b[0m\u001b[0;34m*\u001b[0m\u001b[0mnp\u001b[0m\u001b[0;34m.\u001b[0m\u001b[0mexp\u001b[0m\u001b[0;34m(\u001b[0m\u001b[0mE_nm_fk\u001b[0m\u001b[0;34m(\u001b[0m\u001b[0mn\u001b[0m\u001b[0;34m,\u001b[0m\u001b[0mk\u001b[0m\u001b[0;34m)\u001b[0m\u001b[0;34m*\u001b[0m\u001b[0;36m1j\u001b[0m\u001b[0;34m*\u001b[0m\u001b[0mt\u001b[0m\u001b[0;34m)\u001b[0m\u001b[0;34m-\u001b[0m\u001b[0mE_nm_fk\u001b[0m\u001b[0;34m(\u001b[0m\u001b[0mn\u001b[0m\u001b[0;34m,\u001b[0m\u001b[0mk\u001b[0m\u001b[0;34m)\u001b[0m\u001b[0;34m*\u001b[0m\u001b[0mnp\u001b[0m\u001b[0;34m.\u001b[0m\u001b[0mexp\u001b[0m\u001b[0;34m(\u001b[0m\u001b[0mE_nm_fk\u001b[0m\u001b[0;34m(\u001b[0m\u001b[0mk\u001b[0m\u001b[0;34m,\u001b[0m\u001b[0mm\u001b[0m\u001b[0;34m)\u001b[0m\u001b[0;34m*\u001b[0m\u001b[0;36m1j\u001b[0m\u001b[0;34m*\u001b[0m\u001b[0mt\u001b[0m\u001b[0;34m)\u001b[0m\u001b[0;34m)\u001b[0m\u001b[0;34m\u001b[0m\u001b[0;34m\u001b[0m\u001b[0m\n\u001b[0m\u001b[1;32m     14\u001b[0m     \u001b[0;32mreturn\u001b[0m \u001b[0;36m0.5\u001b[0m\u001b[0;34m*\u001b[0m\u001b[0mI\u001b[0m\u001b[0;34m\u001b[0m\u001b[0;34m\u001b[0m\u001b[0m\n\u001b[1;32m     15\u001b[0m \u001b[0;34m\u001b[0m\u001b[0m\n",
      "\u001b[0;32m/tmp/ipykernel_14645/873000382.py\u001b[0m in \u001b[0;36mE_nm_DVR\u001b[0;34m(n, m, w)\u001b[0m\n\u001b[1;32m      3\u001b[0m \u001b[0;34m\u001b[0m\u001b[0m\n\u001b[1;32m      4\u001b[0m \u001b[0;32mdef\u001b[0m \u001b[0mE_nm_DVR\u001b[0m\u001b[0;34m(\u001b[0m\u001b[0mn\u001b[0m\u001b[0;34m,\u001b[0m\u001b[0mm\u001b[0m\u001b[0;34m,\u001b[0m \u001b[0mw\u001b[0m\u001b[0;34m=\u001b[0m\u001b[0mw\u001b[0m\u001b[0;34m)\u001b[0m\u001b[0;34m:\u001b[0m\u001b[0;34m\u001b[0m\u001b[0;34m\u001b[0m\u001b[0m\n\u001b[0;32m----> 5\u001b[0;31m     \u001b[0;32mreturn\u001b[0m \u001b[0mE_n_DVR\u001b[0m\u001b[0;34m(\u001b[0m\u001b[0mn\u001b[0m\u001b[0;34m,\u001b[0m\u001b[0mw\u001b[0m\u001b[0;34m=\u001b[0m\u001b[0mw\u001b[0m\u001b[0;34m)\u001b[0m\u001b[0;34m-\u001b[0m\u001b[0mE_n_DVR\u001b[0m\u001b[0;34m(\u001b[0m\u001b[0mm\u001b[0m\u001b[0;34m,\u001b[0m\u001b[0mw\u001b[0m\u001b[0;34m=\u001b[0m\u001b[0mw\u001b[0m\u001b[0;34m)\u001b[0m\u001b[0;34m\u001b[0m\u001b[0;34m\u001b[0m\u001b[0m\n\u001b[0m\u001b[1;32m      6\u001b[0m \u001b[0;34m\u001b[0m\u001b[0m\n\u001b[1;32m      7\u001b[0m \u001b[0;32mdef\u001b[0m \u001b[0mx_nm_from_DVR\u001b[0m\u001b[0;34m(\u001b[0m\u001b[0mv\u001b[0m\u001b[0;34m,\u001b[0m\u001b[0mn\u001b[0m\u001b[0;34m,\u001b[0m\u001b[0mm\u001b[0m\u001b[0;34m)\u001b[0m\u001b[0;34m:\u001b[0m\u001b[0;34m\u001b[0m\u001b[0;34m\u001b[0m\u001b[0m\n",
      "\u001b[0;32m/tmp/ipykernel_14645/873000382.py\u001b[0m in \u001b[0;36mE_n_DVR\u001b[0;34m(n, w)\u001b[0m\n\u001b[1;32m      1\u001b[0m \u001b[0;32mdef\u001b[0m \u001b[0mE_n_DVR\u001b[0m\u001b[0;34m(\u001b[0m\u001b[0mn\u001b[0m\u001b[0;34m,\u001b[0m\u001b[0mw\u001b[0m\u001b[0;34m=\u001b[0m\u001b[0mw\u001b[0m\u001b[0;34m)\u001b[0m\u001b[0;34m:\u001b[0m\u001b[0;34m\u001b[0m\u001b[0;34m\u001b[0m\u001b[0m\n\u001b[0;32m----> 2\u001b[0;31m     \u001b[0;32mreturn\u001b[0m \u001b[0mw\u001b[0m\u001b[0;34m[\u001b[0m\u001b[0mn\u001b[0m\u001b[0;34m]\u001b[0m\u001b[0;34m\u001b[0m\u001b[0;34m\u001b[0m\u001b[0m\n\u001b[0m\u001b[1;32m      3\u001b[0m \u001b[0;34m\u001b[0m\u001b[0m\n\u001b[1;32m      4\u001b[0m \u001b[0;32mdef\u001b[0m \u001b[0mE_nm_DVR\u001b[0m\u001b[0;34m(\u001b[0m\u001b[0mn\u001b[0m\u001b[0;34m,\u001b[0m\u001b[0mm\u001b[0m\u001b[0;34m,\u001b[0m \u001b[0mw\u001b[0m\u001b[0;34m=\u001b[0m\u001b[0mw\u001b[0m\u001b[0;34m)\u001b[0m\u001b[0;34m:\u001b[0m\u001b[0;34m\u001b[0m\u001b[0;34m\u001b[0m\u001b[0m\n\u001b[1;32m      5\u001b[0m     \u001b[0;32mreturn\u001b[0m \u001b[0mE_n_DVR\u001b[0m\u001b[0;34m(\u001b[0m\u001b[0mn\u001b[0m\u001b[0;34m,\u001b[0m\u001b[0mw\u001b[0m\u001b[0;34m=\u001b[0m\u001b[0mw\u001b[0m\u001b[0;34m)\u001b[0m\u001b[0;34m-\u001b[0m\u001b[0mE_n_DVR\u001b[0m\u001b[0;34m(\u001b[0m\u001b[0mm\u001b[0m\u001b[0;34m,\u001b[0m\u001b[0mw\u001b[0m\u001b[0;34m=\u001b[0m\u001b[0mw\u001b[0m\u001b[0;34m)\u001b[0m\u001b[0;34m\u001b[0m\u001b[0;34m\u001b[0m\u001b[0m\n",
      "\u001b[0;31mKeyboardInterrupt\u001b[0m: "
     ]
    }
   ],
   "source": [
    "#t=np.linspace(0,0.7,300) #good range for PiB\n",
    "#t=np.linspace(0,20,3000)# HO\n",
    "t=np.linspace(0,4,600)# DW\n",
    "C = np.zeros((len(t),x_range))\n",
    "for k in range(len(t)):\n",
    "    for n in range(x_range):\n",
    "        C[k,n] = c_n(t[k],n, X,E_nm_fk=E_nm_DVR) \n",
    "        #if(k==1):\n",
    "        #  print(c_n(t[k],n, X,E_nm_fk=E_nm_DVR),n)\n",
    "C=C[:,:-1] #because energy difference is wrong for the last one, I think because we don't have the last energy!"
   ]
  },
  {
   "cell_type": "code",
   "execution_count": null,
   "metadata": {},
   "outputs": [],
   "source": [
    "if(True):###plot microcanonical OTOC\n",
    "    import matplotlib.pyplot as plt\n",
    "    from matplotlib.ticker import ScalarFormatter\n",
    "    fig, ax = plt.subplots()\n",
    "    ax.plot(t,np.zeros_like(C[:,2]), '--')\n",
    "    for n in (1,5,9,11,13,20):#DW OTOC from Paper (in paper:20)\n",
    "        ax.plot(t,np.log(C[:,n]), label = \"n = %i\" %n)\n",
    "    ax.set_ylabel('OTOC')\n",
    "    #ax.set_yscale('log') #PiB #DW\n",
    "    ax.yaxis.set_major_formatter(ScalarFormatter())\n",
    "    ax.set_xlabel('t')\n",
    "    ax.set_xlim([0,4])# [0,4]..DW OTOC Paper\n",
    "    ax.legend()\n",
    "    plt.show()\n"
   ]
  },
  {
   "cell_type": "code",
   "execution_count": null,
   "metadata": {},
   "outputs": [],
   "source": [
    "if(True):#Plot Thermal OTOC\n",
    "    import matplotlib.pyplot as plt\n",
    "    from matplotlib.ticker import ScalarFormatter\n",
    "    fig, ax = plt.subplots()\n",
    "    ax.plot(t,np.zeros_like(C[:,2]), '--')#depends if log or not\n",
    "    for T in (1,5,9,30):#DW\n",
    "    #for T in (1,10,40,100): #HO, doesn't matter since all the same\n",
    "    #for T in (1,20,50,100,200):#PiB\n",
    "        beta=1/T\n",
    "        #ax.plot(t,C_T(C,beta=beta,E_n_fk=E_n_DVR), label = \"T = %.2f\" %T)\n",
    "        ax.plot(t,np.log(C_T(C,beta=beta,E_n_fk=E_n_DVR)), label = \"T = %.2f\" %T)\n",
    "    ax.set_ylabel('OTOC')\n",
    "    #ax.set_yscale('log')\n",
    "    ax.yaxis.set_major_formatter(ScalarFormatter())\n",
    "    ax.set_xlabel('t')\n",
    "    ax.set_xlim([0,4])\n",
    "    #plt.text( x= 5,y=0.08, s=r'$\\beta$')\n",
    "    ax.legend()\n",
    "    plt.show()\n"
   ]
  }
 ],
 "metadata": {
  "interpreter": {
   "hash": "076a51a97c315c6e059b0142c5a596a41869ad2fc74f6e73321e68eb2da81ff7"
  },
  "kernelspec": {
   "display_name": "Python 3.9.7 ('base')",
   "language": "python",
   "name": "python3"
  },
  "language_info": {
   "codemirror_mode": {
    "name": "ipython",
    "version": 3
   },
   "file_extension": ".py",
   "mimetype": "text/x-python",
   "name": "python",
   "nbconvert_exporter": "python",
   "pygments_lexer": "ipython3",
   "version": "3.9.7"
  },
  "orig_nbformat": 4
 },
 "nbformat": 4,
 "nbformat_minor": 2
}
